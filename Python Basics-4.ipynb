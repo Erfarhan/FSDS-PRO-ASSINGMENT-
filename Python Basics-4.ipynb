{
 "cells": [
  {
   "cell_type": "code",
   "execution_count": 1,
   "id": "0438732f",
   "metadata": {},
   "outputs": [
    {
     "name": "stdout",
     "output_type": "stream",
     "text": [
      "x = 10 y = 20\n",
      "y = 10 x = 20\n"
     ]
    }
   ],
   "source": [
    "# TOPIC: Python Basics Variable\n",
    "# 1. Declare two variables, `x` and `y`, and assign them integer values. Swap the\n",
    "# values of these variables without using any temporary variable.\n",
    "# Ans:-\n",
    "x,y=10,20                                  # two variable with intiger value\n",
    "print(\"x =\",x, \"y =\",y)                    # Actual value of vriable\n",
    "print(\"y =\",x, \"x =\",y)                    # sawaping the value."
   ]
  },
  {
   "cell_type": "code",
   "execution_count": 2,
   "id": "0c1c4dd3",
   "metadata": {},
   "outputs": [
    {
     "name": "stdout",
     "output_type": "stream",
     "text": [
      "Enter the length of Rectangle : 20\n",
      "Enter the width of Rectangle : 20\n",
      " The Area of Rectangle is  400\n"
     ]
    }
   ],
   "source": [
    "# 2. Create a program that calculates the area of a rectangle. Take the length and\n",
    "# width as inputs from the user and store them in variables. Calculate and\n",
    "# display the area.\n",
    "# Ans:-\n",
    "length=int(input(\"Enter the length of Rectangle : \"))  #user will enter the length of rectangle.\n",
    "width=int(input(\"Enter the width of Rectangle : \"))    # user will enter the width of rectangle.\n",
    "Area_of_Rectangle = length * width                     # calculation, Area of rectangle.\n",
    "print(\" The Area of Rectangle is \",Area_of_Rectangle)  # final output."
   ]
  },
  {
   "cell_type": "code",
   "execution_count": 3,
   "id": "6c487cfa",
   "metadata": {},
   "outputs": [
    {
     "name": "stdout",
     "output_type": "stream",
     "text": [
      "Enter the Temprature in Celsius : 35\n",
      "Tempratur in Farenheit is  95.0\n"
     ]
    }
   ],
   "source": [
    "# 3. Write a Python program that converts temperatures from Celsius to\n",
    "# Fahrenheit. Take the temperature in Celsius as input, store it in a variable,\n",
    "# convert it to Fahrenheit, and display the result.\n",
    "# Ans:-\n",
    "Temp_in_Cel=int(input(\"Enter the Temprature in Celsius : \"))\n",
    "Temp_in_fahrenheit=Temp_in_Cel*1.8+32                               #F=1.8c+32  c=37   formula for converting C to F\n",
    "print(\"Tempratur in Farenheit is \",Temp_in_fahrenheit)"
   ]
  },
  {
   "cell_type": "code",
   "execution_count": 4,
   "id": "6bb4c7cf",
   "metadata": {},
   "outputs": [
    {
     "name": "stdout",
     "output_type": "stream",
     "text": [
      "Enter any strings :farhan\n",
      "6\n"
     ]
    }
   ],
   "source": [
    "\n",
    "# TOPIC: String Based Questions\n",
    "# 1. Write a Python program that takes a string as input and prints the length of\n",
    "# the string.\n",
    "# Ans:-\n",
    "str1=input(\"Enter any strings :\")\n",
    "print(len(str1))"
   ]
  },
  {
   "cell_type": "code",
   "execution_count": 5,
   "id": "ea15d6e8",
   "metadata": {},
   "outputs": [
    {
     "name": "stdout",
     "output_type": "stream",
     "text": [
      " Enter any sentence : india is my country\n",
      "a is 1 time in india is my country\n",
      "e is 0 time in india is my country\n",
      "i is 3 time in india is my country\n",
      "o is 1 time in india is my country\n",
      "u is 1 time in india is my country\n"
     ]
    }
   ],
   "source": [
    "# 2. Create a program that takes a sentence from the user and counts the number\n",
    "# of vowels (a, e, i, o, u) in the string.\n",
    "# Ans:-\n",
    "sentence=input(\" Enter any sentence : \")\n",
    "lower=(sentence.lower()).count('a')            # here strings will convert into lower case to findout the vowels(a,e,i,o,u).\n",
    "print(f\"a is {lower} time in {sentence}\")\n",
    "lower3=(sentence.lower()).count('e')\n",
    "print(f\"e is {lower3} time in {sentence}\")\n",
    "lower1=(sentence.lower()).count('i')\n",
    "print(f\"i is {lower1} time in {sentence}\")\n",
    "lower2=(sentence.lower()).count('o')\n",
    "print(f\"o is {lower2} time in {sentence}\")\n",
    "lower4=(sentence.lower()).count('u')\n",
    "print(f\"u is {lower4} time in {sentence}\")"
   ]
  },
  {
   "cell_type": "code",
   "execution_count": 6,
   "id": "8e352be3",
   "metadata": {},
   "outputs": [
    {
     "name": "stdout",
     "output_type": "stream",
     "text": [
      "Enter your strings :farhan\n",
      " reverse strings is nahraf\n"
     ]
    }
   ],
   "source": [
    "# 3. Given a string, reverse the order of characters using string slicing and print\n",
    "# the reversed string.\n",
    "# Ans:-\n",
    "str=input(\"Enter your strings :\")\n",
    "print(f\" reverse strings is {str[::-1]}\")          # reverse the strings"
   ]
  },
  {
   "cell_type": "code",
   "execution_count": 7,
   "id": "df98329c",
   "metadata": {},
   "outputs": [
    {
     "name": "stdout",
     "output_type": "stream",
     "text": [
      "Enter your strings :I-neuron\n",
      " your strings I-neuron is not palindrome\n"
     ]
    }
   ],
   "source": [
    "# 4. Write a program that takes a string as input and checks if it is a palindrome\n",
    "# (reads the same forwards and backwards).\n",
    "# Ans:-\n",
    "str=input(\"Enter your strings :\")\n",
    "palindrome=str[::-1]                 # reverse the strings\n",
    "if str==palindrome:                  #checking reverse strings with actual strings to find out the palindrome.\n",
    "    print(f\" your strings {str} is palindrome\")\n",
    "else:\n",
    "    print(f\" your strings {str} is not palindrome\")"
   ]
  },
  {
   "cell_type": "code",
   "execution_count": 9,
   "id": "9263f188",
   "metadata": {},
   "outputs": [
    {
     "name": "stdout",
     "output_type": "stream",
     "text": [
      "Enter your strings :      ahmed\n",
      "10\n",
      "5\n",
      "ahmed\n"
     ]
    }
   ],
   "source": [
    "\n",
    "# 5. Create a program that takes a string as input and removes all the spaces from\n",
    "# it. Print the modified string without spaces.\n",
    "# Ans:-\n",
    "str=input(\"Enter your strings : \")\n",
    "print(len(str))                             # Actual string length with spaces.\n",
    "modified_str=str.strip()\n",
    "print(len(modified_str))                    # length of strings, After removing all the spaces(just for checking)\n",
    "print(modified_str)\n"
   ]
  },
  {
   "cell_type": "code",
   "execution_count": null,
   "id": "a22be7e1",
   "metadata": {},
   "outputs": [],
   "source": []
  }
 ],
 "metadata": {
  "kernelspec": {
   "display_name": "Python 3 (ipykernel)",
   "language": "python",
   "name": "python3"
  },
  "language_info": {
   "codemirror_mode": {
    "name": "ipython",
    "version": 3
   },
   "file_extension": ".py",
   "mimetype": "text/x-python",
   "name": "python",
   "nbconvert_exporter": "python",
   "pygments_lexer": "ipython3",
   "version": "3.11.4"
  }
 },
 "nbformat": 4,
 "nbformat_minor": 5
}
